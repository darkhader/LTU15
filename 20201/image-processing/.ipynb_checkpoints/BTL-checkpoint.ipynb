{
 "cells": [
  {
   "cell_type": "code",
   "execution_count": 10,
   "metadata": {},
   "outputs": [],
   "source": [
    "import numpy as np\n",
    "import argparse\n",
    "import cv2\n",
    "from collections import OrderedDict\n",
    "\n",
    "# params for the Model\n",
    "args = OrderedDict()\n",
    "\n",
    "args[\"prototxt\"] = \"./\" # \"path to Caffe 'deploy' prototxt file\"\n",
    "args[\"model\"] = \"./model\" # path to Caffe pre-trained model\n",
    "\n",
    "args[\"image\"] = \"./data/hieu.jps\" # path to image to be detected\n",
    "\n",
    "\n",
    "args['train'] = \"./data/train\"  # Path to train folder\n",
    "args['dev'] = \"./data/cv\" # Path to cross-validate folder\n",
    "args['test'] = \"./data/test\"  # Path to test folder\n",
    "\n",
    "args['epoch'] = 50  # Number of epochs to run\n",
    "args['name'] = \"model_origin_vi\"  # Model name\n",
    "\n",
    "args['reload'] = True # Reload old model to continue training\n",
    "args['retrain'] = False # Re-train the model from the begin\n",
    "\n",
    "\n",
    "args['use_gpu'] = False  # GPU Check if available\n",
    "use_gpu = args['use_gpu']"
   ]
  },
  {
   "cell_type": "code",
   "execution_count": 11,
   "metadata": {},
   "outputs": [
    {
     "data": {
      "text/plain": [
       "False"
      ]
     },
     "execution_count": 11,
     "metadata": {},
     "output_type": "execute_result"
    }
   ],
   "source": [
    "# load our serialized model from disk\n",
    "print(\"[INFO] loading model...\")\n",
    "net = cv2.dnn.readNetFromCaffe(args[\"prototxt\"], args[\"model\"])\n",
    "# load the input image and construct an input blob for the image\n",
    "# by resizing to a fixed 300x300 pixels and then normalizing it\n",
    "image = cv2.imread(args[\"image\"])\n",
    "(h, w) = image.shape[:2]\n",
    "blob = cv2.dnn.blobFromImage(cv2.resize(image, (300, 300)), 1.0,\n",
    "\t(300, 300), (104.0, 177.0, 123.0))"
   ]
  },
  {
   "cell_type": "code",
   "execution_count": null,
   "metadata": {},
   "outputs": [],
   "source": []
  }
 ],
 "metadata": {
  "kernelspec": {
   "display_name": "Python 3",
   "language": "python",
   "name": "python3"
  },
  "language_info": {
   "codemirror_mode": {
    "name": "ipython",
    "version": 3
   },
   "file_extension": ".py",
   "mimetype": "text/x-python",
   "name": "python",
   "nbconvert_exporter": "python",
   "pygments_lexer": "ipython3",
   "version": "3.8.2"
  }
 },
 "nbformat": 4,
 "nbformat_minor": 4
}
